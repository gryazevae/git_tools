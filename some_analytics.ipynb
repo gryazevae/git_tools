{
 "cells": [
  {
   "cell_type": "code",
   "execution_count": 2,
   "metadata": {},
   "outputs": [
    {
     "name": "stderr",
     "output_type": "stream",
     "text": [
      "Cloning into 'test_repo'...\n",
      "remote: Not Found\n",
      "fatal: repository 'https://github.com/gryazevae/' not found\n"
     ]
    }
   ],
   "source": [
    "# copy example repository\n"
   ]
  },
  {
   "cell_type": "code",
   "execution_count": 6,
   "metadata": {},
   "outputs": [],
   "source": [
    "import matplotlib.pyplot as plt\n",
    "import subprocess\n",
    "from datetime import datetime\n",
    "\n",
    "def get_commit_history():\n",
    "    git_log = subprocess.Popen(['git', 'log', '--all', '--format=%ct'], stdout=subprocess.PIPE)\n",
    "    output, _ = git_log.communicate()\n",
    "    commit_dates = output.decode().split('\\n')[:-1]\n",
    "    return sorted([datetime.fromtimestamp(int(date)) for date in commit_dates])\n",
    "\n",
    "def count_commits_per_month(commit_dates):\n",
    "    first_date = commit_dates[0].replace(day=1, hour=0, minute=0, second=0, microsecond=0)                # Устанавливаем начальную дату на первое число текущего месяца\n",
    "    last_date = commit_dates[-1].replace(day=1, month= (commit_dates[-1].month+1) % 12 + ((commit_dates[-1].month+1) // 12), year = commit_dates[-1].year + ((commit_dates[-1].month+1) // 12))       \n",
    "    start_date = first_date               # Устанавливаем начальную дату на первое число текущего месяца\n",
    "    end_date = start_date.replace(day=1, month= (start_date.month+1) % 12 + ((start_date.month+1) // 12), year = start_date.year + ((start_date.month+1) // 12))                                      # Устанавливаем конечную дату на первое число следующего месяца\n",
    "    commit_counts = []\n",
    "    while end_date <= last_date:\n",
    "        count = 0\n",
    "        for date in commit_dates:\n",
    "            if (date <= end_date) and (date >= start_date) :\n",
    "                count += 1\n",
    "        commit_counts.append(count)\n",
    "        start_date = end_date\n",
    "        #print(end_date)\n",
    "        #print((end_date.month+1) % 12  + ((start_date.month+1) // 12))\n",
    "        end_date = end_date.replace(day=1, month= (end_date.month+1) % 12 + ((start_date.month+1) // 12), year = end_date.year + ((start_date.month+1) // 12))  \n",
    "    return commit_counts\n",
    "\n",
    "def plot_commit_frequency(commit_dates, commit_counts):\n",
    "    plt.bar(commit_dates, commit_counts, width=timedelta(days=30))\n",
    "    plt.xlabel('Месяц')\n",
    "    plt.ylabel('Частота коммитов')\n",
    "    plt.title('Сумма коммитов каждый месяц во всех ветках')\n",
    "    plt.xticks(rotation=45)\n",
    "    plt.tight_layout()\n",
    "    plt.show()"
   ]
  },
  {
   "cell_type": "code",
   "execution_count": 7,
   "metadata": {},
   "outputs": [],
   "source": [
    "!cd ./test_repo"
   ]
  },
  {
   "cell_type": "code",
   "execution_count": 8,
   "metadata": {},
   "outputs": [
    {
     "ename": "IndexError",
     "evalue": "list index out of range",
     "output_type": "error",
     "traceback": [
      "\u001b[1;31m---------------------------------------------------------------------------\u001b[0m",
      "\u001b[1;31mIndexError\u001b[0m                                Traceback (most recent call last)",
      "Cell \u001b[1;32mIn[8], line 2\u001b[0m\n\u001b[0;32m      1\u001b[0m commit_dates \u001b[39m=\u001b[39m get_commit_history()\n\u001b[1;32m----> 2\u001b[0m commit_counts \u001b[39m=\u001b[39m count_commits_per_month(commit_dates)\n\u001b[0;32m      3\u001b[0m plt\u001b[39m.\u001b[39mplot(commit_counts, \u001b[39m'\u001b[39m\u001b[39m-o\u001b[39m\u001b[39m'\u001b[39m)\n\u001b[0;32m      4\u001b[0m plt\u001b[39m.\u001b[39mxlabel(\u001b[39m'\u001b[39m\u001b[39mМесяц\u001b[39m\u001b[39m'\u001b[39m)\n",
      "Cell \u001b[1;32mIn[6], line 12\u001b[0m, in \u001b[0;36mcount_commits_per_month\u001b[1;34m(commit_dates)\u001b[0m\n\u001b[0;32m     11\u001b[0m \u001b[39mdef\u001b[39;00m \u001b[39mcount_commits_per_month\u001b[39m(commit_dates):\n\u001b[1;32m---> 12\u001b[0m     first_date \u001b[39m=\u001b[39m commit_dates[\u001b[39m0\u001b[39;49m]\u001b[39m.\u001b[39mreplace(day\u001b[39m=\u001b[39m\u001b[39m1\u001b[39m, hour\u001b[39m=\u001b[39m\u001b[39m0\u001b[39m, minute\u001b[39m=\u001b[39m\u001b[39m0\u001b[39m, second\u001b[39m=\u001b[39m\u001b[39m0\u001b[39m, microsecond\u001b[39m=\u001b[39m\u001b[39m0\u001b[39m)                \u001b[39m# Устанавливаем начальную дату на первое число текущего месяца\u001b[39;00m\n\u001b[0;32m     13\u001b[0m     last_date \u001b[39m=\u001b[39m commit_dates[\u001b[39m-\u001b[39m\u001b[39m1\u001b[39m]\u001b[39m.\u001b[39mreplace(day\u001b[39m=\u001b[39m\u001b[39m1\u001b[39m, month\u001b[39m=\u001b[39m (commit_dates[\u001b[39m-\u001b[39m\u001b[39m1\u001b[39m]\u001b[39m.\u001b[39mmonth\u001b[39m+\u001b[39m\u001b[39m1\u001b[39m) \u001b[39m%\u001b[39m \u001b[39m12\u001b[39m \u001b[39m+\u001b[39m ((commit_dates[\u001b[39m-\u001b[39m\u001b[39m1\u001b[39m]\u001b[39m.\u001b[39mmonth\u001b[39m+\u001b[39m\u001b[39m1\u001b[39m) \u001b[39m/\u001b[39m\u001b[39m/\u001b[39m \u001b[39m12\u001b[39m), year \u001b[39m=\u001b[39m commit_dates[\u001b[39m-\u001b[39m\u001b[39m1\u001b[39m]\u001b[39m.\u001b[39myear \u001b[39m+\u001b[39m ((commit_dates[\u001b[39m-\u001b[39m\u001b[39m1\u001b[39m]\u001b[39m.\u001b[39mmonth\u001b[39m+\u001b[39m\u001b[39m1\u001b[39m) \u001b[39m/\u001b[39m\u001b[39m/\u001b[39m \u001b[39m12\u001b[39m))       \n\u001b[0;32m     14\u001b[0m     start_date \u001b[39m=\u001b[39m first_date               \u001b[39m# Устанавливаем начальную дату на первое число текущего месяца\u001b[39;00m\n",
      "\u001b[1;31mIndexError\u001b[0m: list index out of range"
     ]
    }
   ],
   "source": [
    "commit_dates = get_commit_history()\n",
    "commit_counts = count_commits_per_month(commit_dates)\n",
    "plt.plot(commit_counts, '-o')\n",
    "plt.xlabel('Месяц')\n",
    "plt.ylabel('Частота коммитов')\n",
    "plt.title('Сумма коммитов каждый месяц во всех ветках')\n",
    "#plot_commit_frequency(commit_dates, commit_counts)"
   ]
  },
  {
   "cell_type": "code",
   "execution_count": null,
   "metadata": {},
   "outputs": [],
   "source": []
  }
 ],
 "metadata": {
  "kernelspec": {
   "display_name": "Python 3",
   "language": "python",
   "name": "python3"
  },
  "language_info": {
   "codemirror_mode": {
    "name": "ipython",
    "version": 3
   },
   "file_extension": ".py",
   "mimetype": "text/x-python",
   "name": "python",
   "nbconvert_exporter": "python",
   "pygments_lexer": "ipython3",
   "version": "3.11.4"
  },
  "orig_nbformat": 4
 },
 "nbformat": 4,
 "nbformat_minor": 2
}
