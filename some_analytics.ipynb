{
 "cells": [
  {
   "cell_type": "markdown",
   "metadata": {},
   "source": [
    "# Git analytics tools"
   ]
  },
  {
   "cell_type": "code",
   "execution_count": 2,
   "metadata": {},
   "outputs": [
    {
     "name": "stderr",
     "output_type": "stream",
     "text": [
      "Cloning into 'test_repo'...\n",
      "remote: Not Found\n",
      "fatal: repository 'https://github.com/gryazevae/' not found\n"
     ]
    }
   ],
   "source": [
    "# copy example repository: uncomment required variant\n",
    "\n",
    "#cp ./path_to_repository ./test_repo\n",
    "#cd ./test_repo\n",
    "\n",
    "#git clone ... test_repo\n",
    "#cd ./test_repo"
   ]
  },
  {
   "cell_type": "markdown",
   "metadata": {},
   "source": [
    "### Commits count"
   ]
  },
  {
   "cell_type": "code",
   "execution_count": 44,
   "metadata": {},
   "outputs": [],
   "source": [
    "import matplotlib.pyplot as plt\n",
    "import subprocess\n",
    "import datetime\n",
    "\n",
    "def get_commit_history():\n",
    "    git_log = subprocess.Popen(['git', 'log', '--all', '--format=%ct'], stdout=subprocess.PIPE)\n",
    "    output, _ = git_log.communicate()\n",
    "    commit_dates = output.decode().split('\\n')[:-1]\n",
    "    return sorted([datetime.datetime.fromtimestamp(int(date)) for date in commit_dates])\n",
    "\n",
    "def count_commits_per_month(commit_dates):\n",
    "    first_date = commit_dates[0].replace(day=1, hour=0, minute=0, second=0, microsecond=0)                # Устанавливаем начальную дату на первое число текущего месяца\n",
    "    last_date = commit_dates[-1].replace(day=1, month= (commit_dates[-1].month+1) % 12 + ((commit_dates[-1].month+1) // 12), year = commit_dates[-1].year + ((commit_dates[-1].month+1) // 12))       \n",
    "    start_date = first_date               # Устанавливаем начальную дату на первое число текущего месяца\n",
    "    end_date = start_date.replace(day=1, month= (start_date.month+1) % 12 + ((start_date.month+1) // 12), year = start_date.year + ((start_date.month+1) // 12))                                      # Устанавливаем конечную дату на первое число следующего месяца\n",
    "    commit_counts = []\n",
    "    while end_date <= last_date:\n",
    "        count = 0\n",
    "        for date in commit_dates:\n",
    "            if (date <= end_date) and (date >= start_date) :\n",
    "                count += 1\n",
    "        commit_counts.append(count)\n",
    "        start_date = end_date\n",
    "        #print(end_date)\n",
    "        #print((end_date.month+1) % 12  + ((start_date.month+1) // 12))\n",
    "        end_date = end_date.replace(day=1, month= (end_date.month+1) % 12 + ((start_date.month+1) // 12), year = end_date.year + ((start_date.month+1) // 12))  \n",
    "    return commit_counts\n",
    "\n",
    "def plot_commit_frequency(commit_dates, commit_counts):\n",
    "    plt.bar(commit_dates, commit_counts, width=timedelta(days=30))\n",
    "    plt.xlabel('Месяц')\n",
    "    plt.ylabel('Частота коммитов')\n",
    "    plt.title('Сумма коммитов каждый месяц во всех ветках')\n",
    "    plt.xticks(rotation=45)\n",
    "    plt.tight_layout()\n",
    "    plt.show()"
   ]
  },
  {
   "cell_type": "code",
   "execution_count": 45,
   "metadata": {},
   "outputs": [
    {
     "data": {
      "text/plain": [
       "Text(0.5, 1.0, 'Сумма коммитов каждый месяц во всех ветках')"
      ]
     },
     "execution_count": 45,
     "metadata": {},
     "output_type": "execute_result"
    },
    {
     "data": {
      "image/png": "[encoded data removed]",
      "text/plain": [
       "<Figure size 640x480 with 1 Axes>"
      ]
     },
     "metadata": {},
     "output_type": "display_data"
    }
   ],
   "source": [
    "commit_dates = get_commit_history()\n",
    "commit_counts = count_commits_per_month(commit_dates)\n",
    "plt.plot(commit_counts, '-o')\n",
    "plt.xlabel('Месяц')\n",
    "plt.ylabel('Частота коммитов')\n",
    "plt.title('Сумма коммитов каждый месяц во всех ветках')\n",
    "#plot_commit_frequency(commit_dates, commit_counts)"
   ]
  },
  {
   "cell_type": "markdown",
   "metadata": {},
   "source": [
    "### Was commits before 22:00?"
   ]
  },
  {
   "cell_type": "code",
   "execution_count": 42,
   "metadata": {},
   "outputs": [
    {
     "name": "stdout",
     "output_type": "stream",
     "text": [
      "There were enough commits before 22:00\n"
     ]
    }
   ],
   "source": [
    "import datetime\n",
    "from git import Repo\n",
    "import difflib\n",
    "\n",
    "def count_changed_lines(commit):\n",
    "    try:\n",
    "        repo = commit.repo\n",
    "        diff = commit.diff(commit.parents[0])  # Получаем разницу между текущим и предыдущим коммитом\n",
    "\n",
    "        total_changed_lines = 0\n",
    "        for change in diff:\n",
    "            old_blob = change.a_blob\n",
    "            new_blob = change.b_blob\n",
    "            if old_blob is None:  # Новый файл\n",
    "                changed_lines = len(new_blob.data_stream.read().decode('utf-8').splitlines())\n",
    "            else:\n",
    "                diff_data = difflib.unified_diff(\n",
    "                    old_blob.data_stream.read().decode('utf-8').splitlines(),\n",
    "                    new_blob.data_stream.read().decode('utf-8').splitlines(),\n",
    "                    lineterm='',\n",
    "                )\n",
    "                changed_lines = sum(1 for line in diff_data if line.startswith('+') or line.startswith('-'))\n",
    "            \n",
    "            total_changed_lines += changed_lines\n",
    "        \n",
    "        return total_changed_lines\n",
    "    \n",
    "    except Exception as e:\n",
    "        print(f\"Error occurred: {str(e)}\")\n",
    "        return None\n",
    "\n",
    "def check_commits(repo_path, target_date, verbose):\n",
    "    repo = Repo(repo_path)\n",
    "    commits = list(repo.iter_commits())\n",
    "    was_commits = False\n",
    "    total_lines = 0\n",
    "    for commit in commits:\n",
    "        commit_date = datetime.datetime.fromtimestamp(commit.committed_date)\n",
    "        if commit_date.date() == target_date and commit_date.time() < datetime.time(22, 0):\n",
    "            if verbose > 0:\n",
    "                print(f\"Commit on {target_date} before 22:00: {commit.hexsha}\")\n",
    "            was_commits = True\n",
    "            changed_lines_count = count_changed_lines(commit)\n",
    "            total_lines += changed_lines_count\n",
    "            if verbose > 0:\n",
    "                print(f\"Количество измененных строк в коммите {commit.hexsha}: {changed_lines_count}\")\n",
    "    return was_commits, total_lines\n",
    "\n",
    "# Пример использования\n",
    "#target_date = datetime.date(2023, 8, 23)\n",
    "target_date = datetime.date.today()  \n",
    "repo_path = './'\n",
    "was_commits, total_lines = check_commits(repo_path, target_date, verbose = 0)\n",
    "if total_lines > 20:\n",
    "    print(\"There were enough commits before 22:00\")\n",
    "else:\n",
    "    print(\"There wasn't commits before 22:00\")"
   ]
  },
  {
   "cell_type": "code",
   "execution_count": 33,
   "metadata": {},
   "outputs": [
    {
     "data": {
      "text/plain": [
       "'c:\\\\SideProjects\\\\MyGit\\\\git_tools'"
      ]
     },
     "execution_count": 33,
     "metadata": {},
     "output_type": "execute_result"
    }
   ],
   "source": [
    "os.getcwd()"
   ]
  },
  {
   "cell_type": "code",
   "execution_count": 25,
   "metadata": {},
   "outputs": [
    {
     "name": "stdout",
     "output_type": "stream",
     "text": [
      "c:\\SideProjects\\MyGit\\git_tools\n"
     ]
    }
   ],
   "source": [
    "cd ../"
   ]
  }
 ],
 "metadata": {
  "kernelspec": {
   "display_name": "Python 3",
   "language": "python",
   "name": "python3"
  },
  "language_info": {
   "codemirror_mode": {
    "name": "ipython",
    "version": 3
   },
   "file_extension": ".py",
   "mimetype": "text/x-python",
   "name": "python",
   "nbconvert_exporter": "python",
   "pygments_lexer": "ipython3",
   "version": "3.11.4"
  },
  "orig_nbformat": 4
 },
 "nbformat": 4,
 "nbformat_minor": 2
}
